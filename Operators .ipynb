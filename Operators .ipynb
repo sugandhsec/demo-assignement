{
 "cells": [
  {
   "cell_type": "code",
   "execution_count": null,
   "id": "d39ab1d1",
   "metadata": {},
   "outputs": [],
   "source": [
    "Types of Operators In python\n",
    "# 1--Arithmetic Operator  + - * / %(modulus) //(floor division) **(power operator)\n",
    "# 2---relational Operator > < >= <= == !=\n",
    "# 3---Logical Operator logical And(and) Logical OR(or) Logical not(not)\n",
    "# 4--Assignement Operator = += -= *= /= **= \n",
    "# Bitwise Operator bitwise and(&) bitwise OR(|) bitwise left shif(<<) bitwise right shift(>>)\n",
    "#  bitwise exclusive or XOR(^)\n",
    "# 5---Membaership Operator in ....not in\n",
    "# 6--Identity operator is... is not"
   ]
  },
  {
   "cell_type": "code",
   "execution_count": 1,
   "id": "e324288e",
   "metadata": {},
   "outputs": [
    {
     "name": "stdout",
     "output_type": "stream",
     "text": [
      "30\n",
      "104\n"
     ]
    }
   ],
   "source": [
    "# 1---Arithmetic Operator\n",
    "a=10\n",
    "b=20\n",
    "print(a+b)\n",
    "\n",
    "print(48+56)"
   ]
  },
  {
   "cell_type": "code",
   "execution_count": 13,
   "id": "011d7967",
   "metadata": {},
   "outputs": [
    {
     "name": "stdout",
     "output_type": "stream",
     "text": [
      "9.5\n",
      "2\n",
      "29.666666666666668\n",
      "29\n",
      "4\n",
      "30\n",
      "175\n"
     ]
    }
   ],
   "source": [
    "print(38/4)\n",
    "print(38%4)\n",
    "# 23.32  23  24\n",
    "# 12.25  12   13\n",
    "# 14.56  14 15\n",
    "\n",
    "# 11123.23 \n",
    "print(89/3)\n",
    "print(89//3)\n",
    "print(28//6)\n",
    "# 11125 days\n",
    "print(11125//365)\n",
    "print(11125%365)"
   ]
  },
  {
   "cell_type": "code",
   "execution_count": 4,
   "id": "478185a5",
   "metadata": {},
   "outputs": [
    {
     "name": "stdout",
     "output_type": "stream",
     "text": [
      "Enter Number1: 23\n",
      "Enter Number2: 14\n",
      "1.6428571428571428\n"
     ]
    }
   ],
   "source": [
    "a=int(input(\"Enter Number1: \"))\n",
    "b=float(input(\"Enter Number2: \"))\n",
    "print(a/b)"
   ]
  },
  {
   "cell_type": "code",
   "execution_count": 10,
   "id": "d2b6d6eb",
   "metadata": {},
   "outputs": [
    {
     "name": "stdout",
     "output_type": "stream",
     "text": [
      "Enter Number: 48\n",
      "Enter Number2: \n",
      "48\n"
     ]
    }
   ],
   "source": [
    "a=int(input(\"Enter Number: \"))\n",
    "b=bool(input(\"Enter Number2: \"))\n",
    "print(a+b)"
   ]
  },
  {
   "cell_type": "code",
   "execution_count": 8,
   "id": "19917fbc",
   "metadata": {},
   "outputs": [
    {
     "name": "stdout",
     "output_type": "stream",
     "text": [
      "False\n"
     ]
    }
   ],
   "source": [
    "str1=\"\"\n",
    "b1=bool(str1)\n",
    "print(b1)"
   ]
  },
  {
   "cell_type": "code",
   "execution_count": 13,
   "id": "39260e39",
   "metadata": {},
   "outputs": [
    {
     "name": "stdout",
     "output_type": "stream",
     "text": [
      "36\n",
      "576\n",
      "4.0\n"
     ]
    }
   ],
   "source": [
    "a=48\n",
    "b=12\n",
    "print(a-b)\n",
    "print(a*b)\n",
    "print(a/b)"
   ]
  },
  {
   "cell_type": "code",
   "execution_count": 17,
   "id": "4ed4ff18",
   "metadata": {},
   "outputs": [
    {
     "name": "stdout",
     "output_type": "stream",
     "text": [
      "2.888888888888889\n",
      "8\n",
      "5.0\n",
      "0\n"
     ]
    }
   ],
   "source": [
    "# %---modulus --remainder as a answer\n",
    "print(26/9)\n",
    "print(26%9)b\n",
    "\n",
    "print(25/5)\n",
    "print(25%5)"
   ]
  },
  {
   "cell_type": "code",
   "execution_count": 23,
   "id": "640f60bf",
   "metadata": {},
   "outputs": [
    {
     "name": "stdout",
     "output_type": "stream",
     "text": [
      "9\n",
      "1\n",
      "5\n"
     ]
    }
   ],
   "source": [
    "print(48//5)\n",
    "print(48//47)\n",
    "print(45//9)\n"
   ]
  },
  {
   "cell_type": "code",
   "execution_count": null,
   "id": "b137df9b",
   "metadata": {},
   "outputs": [],
   "source": [
    "# floor division\n",
    "3.6 3 4\n",
    "45.23 45 46\n",
    "1001.23 1001 1002"
   ]
  },
  {
   "cell_type": "code",
   "execution_count": 26,
   "id": "e4b623bf",
   "metadata": {},
   "outputs": [
    {
     "name": "stdout",
     "output_type": "stream",
     "text": [
      "16\n",
      "36\n",
      "110592\n"
     ]
    }
   ],
   "source": [
    "# power operator **\n",
    "print(2**4)\n",
    "print(6**2)\n",
    "print(48**3)"
   ]
  },
  {
   "cell_type": "code",
   "execution_count": 38,
   "id": "ad104856",
   "metadata": {},
   "outputs": [
    {
     "name": "stdout",
     "output_type": "stream",
     "text": [
      "Enter Number: \n"
     ]
    },
    {
     "ename": "ValueError",
     "evalue": "invalid literal for int() with base 10: ''",
     "output_type": "error",
     "traceback": [
      "\u001b[1;31m---------------------------------------------------------------------------\u001b[0m",
      "\u001b[1;31mValueError\u001b[0m                                Traceback (most recent call last)",
      "Input \u001b[1;32mIn [38]\u001b[0m, in \u001b[0;36m<cell line: 1>\u001b[1;34m()\u001b[0m\n\u001b[1;32m----> 1\u001b[0m a\u001b[38;5;241m=\u001b[39m\u001b[38;5;28;43mint\u001b[39;49m\u001b[43m(\u001b[49m\u001b[38;5;28;43minput\u001b[39;49m\u001b[43m(\u001b[49m\u001b[38;5;124;43m\"\u001b[39;49m\u001b[38;5;124;43mEnter Number: \u001b[39;49m\u001b[38;5;124;43m\"\u001b[39;49m\u001b[43m)\u001b[49m\u001b[43m)\u001b[49m\n\u001b[0;32m      2\u001b[0m b\u001b[38;5;241m=\u001b[39m\u001b[38;5;28mint\u001b[39m(\u001b[38;5;28minput\u001b[39m(\u001b[38;5;124m\"\u001b[39m\u001b[38;5;124mEnter Number: \u001b[39m\u001b[38;5;124m\"\u001b[39m))\n\u001b[0;32m      3\u001b[0m \u001b[38;5;28mprint\u001b[39m(a\u001b[38;5;241m/\u001b[39mb)\n",
      "\u001b[1;31mValueError\u001b[0m: invalid literal for int() with base 10: ''"
     ]
    }
   ],
   "source": [
    "a=int(input(\"Enter Number: \"))\n",
    "b=int(input(\"Enter Number: \"))\n",
    "print(a/b)"
   ]
  },
  {
   "cell_type": "code",
   "execution_count": null,
   "id": "49a394dd",
   "metadata": {},
   "outputs": [],
   "source": [
    "# relational operator\n",
    "\n",
    "25+5\n",
    "12+32\n",
    "\n",
    "# > < >= <= == !="
   ]
  },
  {
   "cell_type": "code",
   "execution_count": 14,
   "id": "f46292f2",
   "metadata": {},
   "outputs": [
    {
     "data": {
      "text/plain": [
       "True"
      ]
     },
     "execution_count": 14,
     "metadata": {},
     "output_type": "execute_result"
    }
   ],
   "source": [
    "38>25"
   ]
  },
  {
   "cell_type": "code",
   "execution_count": 16,
   "id": "6eaccab9",
   "metadata": {},
   "outputs": [
    {
     "data": {
      "text/plain": [
       "False"
      ]
     },
     "execution_count": 16,
     "metadata": {},
     "output_type": "execute_result"
    }
   ],
   "source": [
    "45>121"
   ]
  },
  {
   "cell_type": "code",
   "execution_count": 19,
   "id": "e3c4fdda",
   "metadata": {},
   "outputs": [
    {
     "data": {
      "text/plain": [
       "False"
      ]
     },
     "execution_count": 19,
     "metadata": {},
     "output_type": "execute_result"
    }
   ],
   "source": [
    "12>=121"
   ]
  },
  {
   "cell_type": "code",
   "execution_count": 20,
   "id": "a8a2f978",
   "metadata": {},
   "outputs": [
    {
     "data": {
      "text/plain": [
       "True"
      ]
     },
     "execution_count": 20,
     "metadata": {},
     "output_type": "execute_result"
    }
   ],
   "source": [
    "45<=121"
   ]
  },
  {
   "cell_type": "code",
   "execution_count": 21,
   "id": "f6dec124",
   "metadata": {},
   "outputs": [
    {
     "data": {
      "text/plain": [
       "False"
      ]
     },
     "execution_count": 21,
     "metadata": {},
     "output_type": "execute_result"
    }
   ],
   "source": [
    "12==13"
   ]
  },
  {
   "cell_type": "code",
   "execution_count": 23,
   "id": "6e5ef576",
   "metadata": {},
   "outputs": [
    {
     "data": {
      "text/plain": [
       "False"
      ]
     },
     "execution_count": 23,
     "metadata": {},
     "output_type": "execute_result"
    }
   ],
   "source": [
    "14!=14"
   ]
  },
  {
   "cell_type": "code",
   "execution_count": 25,
   "id": "08f74c59",
   "metadata": {},
   "outputs": [
    {
     "name": "stdout",
     "output_type": "stream",
     "text": [
      "Enter Age78\n",
      "True\n"
     ]
    }
   ],
   "source": [
    "age=int(input(\"Enter Age\"))\n",
    "print(age>18)"
   ]
  },
  {
   "cell_type": "code",
   "execution_count": null,
   "id": "61fa4359",
   "metadata": {},
   "outputs": [],
   "source": [
    "48>12 True\n",
    "36<4  False\n",
    "29>=12 True\n",
    "45==89 False"
   ]
  },
  {
   "cell_type": "code",
   "execution_count": null,
   "id": "49409836",
   "metadata": {},
   "outputs": [],
   "source": [
    "# logical And(and)   if all conditio n is true then final answer is True if \n",
    "# atleast one condition is False then final answer is false"
   ]
  },
  {
   "cell_type": "code",
   "execution_count": 29,
   "id": "66e81842",
   "metadata": {},
   "outputs": [
    {
     "data": {
      "text/plain": [
       "False"
      ]
     },
     "execution_count": 29,
     "metadata": {},
     "output_type": "execute_result"
    }
   ],
   "source": [
    "48>12 and 36<4 and 29>=12 and 45==45"
   ]
  },
  {
   "cell_type": "code",
   "execution_count": null,
   "id": "2d8ffeaa",
   "metadata": {},
   "outputs": [],
   "source": [
    "# Logical Or (or) if all condition is false then final result is False if \n",
    "# atleast one condition is true then final answer is True"
   ]
  },
  {
   "cell_type": "code",
   "execution_count": 32,
   "id": "b9f6bcc1",
   "metadata": {},
   "outputs": [
    {
     "data": {
      "text/plain": [
       "False"
      ]
     },
     "execution_count": 32,
     "metadata": {},
     "output_type": "execute_result"
    }
   ],
   "source": [
    "48<12 or 36<4 or 29<=12 or 45==89"
   ]
  },
  {
   "cell_type": "code",
   "execution_count": null,
   "id": "0eabfcc3",
   "metadata": {},
   "outputs": [],
   "source": [
    "# Logical Not(not)  i will revserse your answer means True becomes False and False becomes True"
   ]
  },
  {
   "cell_type": "code",
   "execution_count": 34,
   "id": "013c53f6",
   "metadata": {},
   "outputs": [
    {
     "data": {
      "text/plain": [
       "False"
      ]
     },
     "execution_count": 34,
     "metadata": {},
     "output_type": "execute_result"
    }
   ],
   "source": [
    "not(25>14)"
   ]
  },
  {
   "cell_type": "code",
   "execution_count": null,
   "id": "0bd3ab8b",
   "metadata": {},
   "outputs": [],
   "source": [
    "# Assignement Operator\n",
    "# = \n",
    "a=20\n",
    "t=\"hello\""
   ]
  },
  {
   "cell_type": "code",
   "execution_count": 35,
   "id": "5b4afc8b",
   "metadata": {},
   "outputs": [],
   "source": [
    "a=10\n",
    "a=a+30\n",
    "a+=30\n",
    "\n",
    "b=b*25\n",
    "# b=c*25\n",
    "b*=25  shorthand Operator\n",
    "b=b*25"
   ]
  },
  {
   "cell_type": "code",
   "execution_count": null,
   "id": "43b24c5d",
   "metadata": {},
   "outputs": [],
   "source": [
    "c//=45\n",
    "c=c//45"
   ]
  },
  {
   "cell_type": "code",
   "execution_count": 36,
   "id": "e02de463",
   "metadata": {},
   "outputs": [
    {
     "data": {
      "text/plain": [
       "16"
      ]
     },
     "execution_count": 36,
     "metadata": {},
     "output_type": "execute_result"
    }
   ],
   "source": [
    "48&23"
   ]
  },
  {
   "cell_type": "code",
   "execution_count": 39,
   "id": "835ae4df",
   "metadata": {},
   "outputs": [
    {
     "data": {
      "text/plain": [
       "127"
      ]
     },
     "execution_count": 39,
     "metadata": {},
     "output_type": "execute_result"
    }
   ],
   "source": [
    "98|112|45"
   ]
  },
  {
   "cell_type": "code",
   "execution_count": 40,
   "id": "1d37507e",
   "metadata": {},
   "outputs": [
    {
     "data": {
      "text/plain": [
       "6"
      ]
     },
     "execution_count": 40,
     "metadata": {},
     "output_type": "execute_result"
    }
   ],
   "source": [
    "# bitwise right shift(>>)\n",
    "49>>3"
   ]
  },
  {
   "cell_type": "code",
   "execution_count": 41,
   "id": "7fe694a6",
   "metadata": {},
   "outputs": [
    {
     "data": {
      "text/plain": [
       "784"
      ]
     },
     "execution_count": 41,
     "metadata": {},
     "output_type": "execute_result"
    }
   ],
   "source": [
    "# bitwise left shift(<<)\n",
    "49<<4"
   ]
  },
  {
   "cell_type": "code",
   "execution_count": 42,
   "id": "dd90cd7e",
   "metadata": {},
   "outputs": [
    {
     "data": {
      "text/plain": [
       "82"
      ]
     },
     "execution_count": 42,
     "metadata": {},
     "output_type": "execute_result"
    }
   ],
   "source": [
    "# biwtise exclusive Or XOR(^) caret \n",
    "48^98"
   ]
  },
  {
   "cell_type": "code",
   "execution_count": 43,
   "id": "4eac106a",
   "metadata": {},
   "outputs": [
    {
     "data": {
      "text/plain": [
       "12.0"
      ]
     },
     "execution_count": 43,
     "metadata": {},
     "output_type": "execute_result"
    }
   ],
   "source": [
    "48/4"
   ]
  },
  {
   "cell_type": "code",
   "execution_count": 44,
   "id": "9e760d8b",
   "metadata": {},
   "outputs": [
    {
     "ename": "TypeError",
     "evalue": "unsupported operand type(s) for /: 'str' and 'str'",
     "output_type": "error",
     "traceback": [
      "\u001b[1;31m---------------------------------------------------------------------------\u001b[0m",
      "\u001b[1;31mTypeError\u001b[0m                                 Traceback (most recent call last)",
      "Input \u001b[1;32mIn [44]\u001b[0m, in \u001b[0;36m<cell line: 1>\u001b[1;34m()\u001b[0m\n\u001b[1;32m----> 1\u001b[0m \u001b[38;5;124;43m\"\u001b[39;49m\u001b[38;5;124;43mheello\u001b[39;49m\u001b[38;5;124;43m\"\u001b[39;49m\u001b[38;5;241;43m/\u001b[39;49m\u001b[38;5;124;43m\"\u001b[39;49m\u001b[38;5;124;43mGood morning\u001b[39;49m\u001b[38;5;124;43m\"\u001b[39;49m\n",
      "\u001b[1;31mTypeError\u001b[0m: unsupported operand type(s) for /: 'str' and 'str'"
     ]
    }
   ],
   "source": [
    "\"heello\"/\"Good morning\""
   ]
  },
  {
   "cell_type": "code",
   "execution_count": 45,
   "id": "c451c108",
   "metadata": {},
   "outputs": [
    {
     "data": {
      "text/plain": [
       "1"
      ]
     },
     "execution_count": 45,
     "metadata": {},
     "output_type": "execute_result"
    }
   ],
   "source": [
    "# True/False\n",
    "True+False"
   ]
  },
  {
   "cell_type": "code",
   "execution_count": 46,
   "id": "38dc11e7",
   "metadata": {},
   "outputs": [
    {
     "data": {
      "text/plain": [
       "-1"
      ]
     },
     "execution_count": 46,
     "metadata": {},
     "output_type": "execute_result"
    }
   ],
   "source": [
    "False-True"
   ]
  },
  {
   "cell_type": "code",
   "execution_count": 47,
   "id": "bc05c22a",
   "metadata": {},
   "outputs": [
    {
     "data": {
      "text/plain": [
       "'hellodemo'"
      ]
     },
     "execution_count": 47,
     "metadata": {},
     "output_type": "execute_result"
    }
   ],
   "source": [
    "\"hello\"+\"demo\""
   ]
  },
  {
   "cell_type": "code",
   "execution_count": 49,
   "id": "9f33ee19",
   "metadata": {},
   "outputs": [
    {
     "data": {
      "text/plain": [
       "'hellohellohellohellohello'"
      ]
     },
     "execution_count": 49,
     "metadata": {},
     "output_type": "execute_result"
    }
   ],
   "source": [
    "\"hello\"*5"
   ]
  },
  {
   "cell_type": "code",
   "execution_count": null,
   "id": "293317ae",
   "metadata": {},
   "outputs": [],
   "source": []
  }
 ],
 "metadata": {
  "kernelspec": {
   "display_name": "Python 3 (ipykernel)",
   "language": "python",
   "name": "python3"
  },
  "language_info": {
   "codemirror_mode": {
    "name": "ipython",
    "version": 3
   },
   "file_extension": ".py",
   "mimetype": "text/x-python",
   "name": "python",
   "nbconvert_exporter": "python",
   "pygments_lexer": "ipython3",
   "version": "3.9.12"
  }
 },
 "nbformat": 4,
 "nbformat_minor": 5
}
