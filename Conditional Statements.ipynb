{
 "cells": [
  {
   "cell_type": "code",
   "execution_count": null,
   "id": "e45f7674",
   "metadata": {},
   "outputs": [],
   "source": [
    "# conditional Statements\n",
    "1--simple if\n",
    "2---if else\n",
    "3---if elif...elif...elif...........else (ladder if else)\n",
    "4---nested if else"
   ]
  },
  {
   "cell_type": "code",
   "execution_count": null,
   "id": "f73fcb21",
   "metadata": {},
   "outputs": [],
   "source": [
    "# 1---simple if\n",
    "if condition:\n",
    "    body of the if statementy\n",
    "    hrt\n",
    "    rthrt\n",
    "    rthrth\n",
    "dfkgfkgmerf"
   ]
  },
  {
   "cell_type": "code",
   "execution_count": 4,
   "id": "9da4a22f",
   "metadata": {},
   "outputs": [
    {
     "name": "stdout",
     "output_type": "stream",
     "text": [
      "Enter Age: 5\n",
      "Above if\n",
      "Below if\n"
     ]
    }
   ],
   "source": [
    "age=int(input(\"Enter Age: \"))\n",
    "print(\"Above if\")\n",
    "if age>18:\n",
    "    print(\"Eligible\")\n",
    "    print(\"For voting\")\n",
    "print(\"Below if\")"
   ]
  },
  {
   "cell_type": "code",
   "execution_count": 6,
   "id": "0e079957",
   "metadata": {},
   "outputs": [
    {
     "name": "stdout",
     "output_type": "stream",
     "text": [
      "Enter Age: 2\n",
      "Not\n",
      "Eligible\n",
      "for\n",
      "voting\n"
     ]
    }
   ],
   "source": [
    "age=int(input(\"Enter Age: \"))\n",
    "if age>18:\n",
    "    print(\"Eligible\")\n",
    "    print(\"For voting\")\n",
    "else:\n",
    "    print(\"Not\")\n",
    "    print(\"Eligible\")\n",
    "    print(\"for\")\n",
    "    print(\"voting\")\n",
    "    "
   ]
  },
  {
   "cell_type": "code",
   "execution_count": 12,
   "id": "999cd064",
   "metadata": {},
   "outputs": [
    {
     "name": "stdout",
     "output_type": "stream",
     "text": [
      "Enter Number: 48.56\n",
      "Your number is odd\n"
     ]
    }
   ],
   "source": [
    "num=float(input(\"Enter Number: \"))\n",
    "if num%2==0:\n",
    "    print(\"Your number is even\")\n",
    "else:\n",
    "    print(\"Your number is odd\")"
   ]
  },
  {
   "cell_type": "code",
   "execution_count": null,
   "id": "df2c37c1",
   "metadata": {},
   "outputs": [],
   "source": [
    "# ladder if else\n",
    "if condition1:\n",
    "    body \n",
    "elif conditioon2:\n",
    "    body\n",
    "elif condition3:\n",
    "    body\n",
    ".\n",
    ".\n",
    ".\n",
    ".\n",
    ".\n",
    ".\n",
    ".\n",
    ".\n",
    "\n",
    ".\n",
    "else:\n",
    "    body of else"
   ]
  },
  {
   "cell_type": "code",
   "execution_count": 16,
   "id": "f6f0bc4f",
   "metadata": {},
   "outputs": [
    {
     "name": "stdout",
     "output_type": "stream",
     "text": [
      "Enter Percentage: 405\n",
      "Enter Number between 1-100 only\n"
     ]
    }
   ],
   "source": [
    "percent=int(input(\"Enter Percentage: \"))\n",
    "if percent>90 and percent<100:\n",
    "    print(\"Grade A\")\n",
    "elif percent>80 and percent<=90:\n",
    "    print(\"grade B\")\n",
    "elif percent>70 and percent<=80:\n",
    "    print(\"grade C\")\n",
    "elif percent>60 and percent<=70:\n",
    "    print(\"grade D\")\n",
    "elif percent>33 and percent<=60:\n",
    "    print(\"grade E\")\n",
    "elif percent<33 and percent>0:\n",
    "    print(\"Fail\")\n",
    "else:\n",
    "    print(\"Enter Number between 1-100 only\")"
   ]
  },
  {
   "cell_type": "code",
   "execution_count": 19,
   "id": "1958bbad",
   "metadata": {},
   "outputs": [
    {
     "name": "stdout",
     "output_type": "stream",
     "text": [
      "Enter number1: 78\n",
      "Enter number2: 121\n",
      "Enter number3: 14\n",
      "b is greater\n"
     ]
    }
   ],
   "source": [
    "a=int(input(\"Enter number1: \"))\n",
    "b=int(input(\"Enter number2: \"))\n",
    "c=int(input(\"Enter number3: \"))\n",
    "if a>b:\n",
    "    if a>c:\n",
    "        print(\" A is greater\")\n",
    "    else:\n",
    "        print(\"c is greater\")\n",
    "else:\n",
    "    if b>c:\n",
    "        print(\"b is greater\")\n",
    "    else:\n",
    "        print(\"c is greater\")"
   ]
  },
  {
   "cell_type": "markdown",
   "id": "2949f2c6",
   "metadata": {},
   "source": [
    "#Write a Python program to check if a number is positive, negative or zero."
   ]
  },
  {
   "cell_type": "code",
   "execution_count": 22,
   "id": "7d54c773",
   "metadata": {},
   "outputs": [
    {
     "name": "stdout",
     "output_type": "stream",
     "text": [
      "Enter Number: 0\n",
      "Zero\n"
     ]
    }
   ],
   "source": [
    "num=int(input(\"Enter Number: \"))\n",
    "if num>0:\n",
    "    print(\"POSITIVE\")\n",
    "elif num<0:\n",
    "    print(\"negative\")\n",
    "# elif num==0:\n",
    "#     print(\"Zero\")\n",
    "else:\n",
    "    print(\"Zero\")"
   ]
  }
 ],
 "metadata": {
  "kernelspec": {
   "display_name": "Python 3 (ipykernel)",
   "language": "python",
   "name": "python3"
  },
  "language_info": {
   "codemirror_mode": {
    "name": "ipython",
    "version": 3
   },
   "file_extension": ".py",
   "mimetype": "text/x-python",
   "name": "python",
   "nbconvert_exporter": "python",
   "pygments_lexer": "ipython3",
   "version": "3.9.12"
  }
 },
 "nbformat": 4,
 "nbformat_minor": 5
}
